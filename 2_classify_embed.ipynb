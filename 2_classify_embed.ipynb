{
 "cells": [
  {
   "metadata": {},
   "cell_type": "markdown",
   "source": [
    "<a href=\"https://colab.research.google.com/github/thesteve0/impatient-computer-vision/blob/main/2_classify_embed.ipynb\" target=\"_parent\"><img src=\"https://colab.research.google.com/assets/colab-badge.svg\" alt=\"Open In Colab\"/></a>\n",
    "\n",
    "# Classification and Embedding\n",
    "\n",
    "We are going to do our housekeep steps which will take a little while to run. While they are running we will go back to slides and I will introduce the topics.\n",
    "\n",
    "### Housekeeping\n",
    "Before we do anything else, we are need to change our machine time to one that has a GPU. Doing computer vision tasks with a CPU, except for some specific models, is extremely slow. One of the reasons we are using Colab is that you can get free access to a GPU for the workshop.\n",
    "\n",
    "Please:\n",
    "1. Go up to the top right of the browser\n",
    "2. Select \"Connect\"\n",
    "3. Then \"Change Runtime Type\"\n",
    "![change_runtime](assets/2_pick_GPU1.png)\n",
    "\n",
    "4. Pick T4 GPU\n",
    "5. Click Save\n",
    "![pick GPU](assets/2_pick_GPU2.png)\n",
    "\n",
    "6. When the run time connects it should look like this\n",
    "![running GPU](assets/2_pick_GPU3.png)\n",
    "\n",
    "\n",
    "Time to do our long running tasks\n",
    "1. Load the dependencies\n",
    "2. Map the drive\n",
    "2. Load the data"
   ],
   "id": "6ac74d2c4769e77a"
  },
  {
   "metadata": {},
   "cell_type": "code",
   "outputs": [],
   "execution_count": null,
   "source": [
    "!pip install fiftyone==1.4.1 torch torchvision umap-learn\n",
    "from google.colab import drive\n",
    "drive.mount('/content/drive')\n",
    "\n",
    "import fiftyone as fo\n",
    "\n",
    "name = \"our-photos\"\n",
    "dir = \"/content/drive/MyDrive/impatient-cv/flickr-labeled\"\n",
    "\n",
    "dataset = fo.Dataset.from_dir(\n",
    "    dataset_dir=dir,\n",
    "    dataset_type=fo.types.FiftyOneDataset,\n",
    "    name=name\n",
    ")\n",
    "\n",
    "print(dataset)"
   ],
   "id": "d62882049a2cb251"
  }
 ],
 "metadata": {
  "kernelspec": {
   "display_name": "Python 3",
   "language": "python",
   "name": "python3"
  },
  "language_info": {
   "codemirror_mode": {
    "name": "ipython",
    "version": 2
   },
   "file_extension": ".py",
   "mimetype": "text/x-python",
   "name": "python",
   "nbconvert_exporter": "python",
   "pygments_lexer": "ipython2",
   "version": "2.7.6"
  }
 },
 "nbformat": 4,
 "nbformat_minor": 5
}

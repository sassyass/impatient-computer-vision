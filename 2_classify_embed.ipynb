{
 "cells": [
  {
   "metadata": {},
   "cell_type": "markdown",
   "source": [
    "<a href=\"https://colab.research.google.com/github/thesteve0/impatient-computer-vision/blob/main/2_classify_embed.ipynb\" target=\"_parent\"><img src=\"https://colab.research.google.com/assets/colab-badge.svg\" alt=\"Open In Colab\"/></a>\n",
    "\n",
    "# Classification and Embedding\n",
    "\n",
    "We are going to do our housekeep steps which will take a little while to run. While they are running we will go back to slides and I will introduce the topics.\n",
    "\n",
    "### Housekeeping\n",
    "Before we do anything else, we are need to change our machine time to one that has a GPU. Doing computer vision tasks with a CPU, except for some specific models, is extremely slow. One of the reasons we are using Colab is that you can get free access to a GPU for the workshop.\n",
    "\n",
    "Please:\n",
    "1. Go up to the top right of the browser\n",
    "2. Select \"Connect\"\n",
    "3. Then \"Change Runtime Type\"\n",
    "![change_runtime](assets/2_pick_GPU1.png)\n",
    "\n",
    "4. Pick T4 GPU\n",
    "5. Click Save\n",
    "![pick GPU](assets/2_pick_GPU2.png)\n",
    "\n",
    "6. When the run time connects it should look like this\n",
    "![running GPU](assets/2_pick_GPU3.png)\n",
    "\n",
    "\n",
    "Time to do our long running tasks\n",
    "1. Load the dependencies\n",
    "2. Map the drive\n",
    "2. Load the data"
   ],
   "id": "6ac74d2c4769e77a"
  },
  {
   "metadata": {},
   "cell_type": "code",
   "outputs": [],
   "execution_count": null,
   "source": [
    "!pip install fiftyone==1.4.1 torch torchvision umap-learn\n",
    "from google.colab import drive\n",
    "drive.mount('/content/drive')\n",
    "\n",
    "import fiftyone as fo\n",
    "\n",
    "name = \"our-photos\"\n",
    "dir = \"/content/drive/MyDrive/impatient-cv/flickr-labeled\"\n",
    "\n",
    "dataset = fo.Dataset.from_dir(\n",
    "    dataset_dir=dir,\n",
    "    dataset_type=fo.types.FiftyOneDataset,\n",
    "    name=name\n",
    ")\n",
    "\n",
    "print(dataset)"
   ],
   "id": "d62882049a2cb251"
  },
  {
   "metadata": {},
   "cell_type": "markdown",
   "source": [
    "## Classification\n",
    "\n",
    "As we discussed in the slides, Classification is the computer vision task where you try to assign an image to single class out of a list of classes. We are going to use a classification model that is the foundation for many other models and is still quite powerful - ResNet. We are going to use the simplement version, ResNet18, because:\n",
    "\n",
    "1. It doesn't require much GPU resources\n",
    "2. It is fast to compute\n",
    "\n",
    "There are many variations to ResNet where a number is appended to the name. This number usually represents the number of layers in the neural network.\n",
    "\n",
    "### Training data\n",
    "\n",
    "While ResNet18 has a specific architecture, to use it for predictions, the model needs to be trained on data. There are many foundational data sets in computer vision but a partciularly common one is [ImageNet](https://www.image-net.org/index.php). This dataset has 1k classes and millions of annotated images.  FiftyOne has a [dataset zoo](https://docs.voxel51.com/dataset_zoo/datasets.html) where many important computer vision datasets have been converted into FiftyOne format and are easy to download and view.\n",
    "\n",
    "Let's go ahead and download and view a small subset of the ImageNet Data, the [ImageNet Sample Data](https://docs.voxel51.com/dataset_zoo/datasets.html#imagenet-sample)"
   ],
   "id": "10bb2367138ac9fd"
  },
  {
   "metadata": {
    "jupyter": {
     "is_executing": true
    }
   },
   "cell_type": "code",
   "source": [
    "1. import fiftyone.zoo as foz\n",
    "\n",
    "imagenet_samples = foz.load_zoo_dataset(\"imagenet-sample\")\n",
    "\n",
    "session = fo.launch_app(imagenet_samples, auto=False)\n",
    "\n",
    "session.url\n"
   ],
   "id": "f5b8e88ab46b2d09",
   "outputs": [],
   "execution_count": null
  },
  {
   "metadata": {},
   "cell_type": "markdown",
   "source": [
    "### FiftyOne Model Zoo\n",
    "\n",
    "The computer vision platform we have been using, FiftyOne, also has a set of models already converted into a format that works with the rest of the FiftyOne platform. Typically, you would have to use library specific code, such as PyTorch, along with other code to specify the architecture to run a computer vision model. With FiftyOne, we can load the model in one line of code,  and then run it for classification (inference) with another line of code. Two lines of code and you are in business.\n",
    "\n",
    "#### ResNet18 in the model zoo\n",
    "\n",
    "We are going to load the PytTorch version of [ResNet18 model](https://docs.voxel51.com/model_zoo/models.html#resnet18-imagenet-torch) that was trained on ImageNet"
   ],
   "id": "5d53686ea50c84dd"
  },
  {
   "metadata": {},
   "cell_type": "code",
   "outputs": [],
   "execution_count": null,
   "source": "resnet18_imagenet_model = foz.load_zoo_model(\"resnet18-imagenet-torch\")\n",
   "id": "35c7c114a8295159"
  },
  {
   "metadata": {},
   "cell_type": "markdown",
   "source": [
    "### Predictions of our Photos\n",
    "\n",
    "We loaded our Flickr dataset and we have loaded our classification model, time to have it predict the classifications for our images."
   ],
   "id": "513b4af3b87017cb"
  },
  {
   "metadata": {},
   "cell_type": "code",
   "outputs": [],
   "execution_count": null,
   "source": [
    "dataset.apply_model(resnet18_imagenet_model, label_field=\"rn18_in_predictions\", progress_bar=True)\n",
    "\n",
    "# Now let's look at the results\n",
    "session.dataset = dataset"
   ],
   "id": "a5b1a3f3e26848bd"
  }
 ],
 "metadata": {
  "kernelspec": {
   "display_name": "Python 3",
   "language": "python",
   "name": "python3"
  },
  "language_info": {
   "codemirror_mode": {
    "name": "ipython",
    "version": 2
   },
   "file_extension": ".py",
   "mimetype": "text/x-python",
   "name": "python",
   "nbconvert_exporter": "python",
   "pygments_lexer": "ipython2",
   "version": "2.7.6"
  }
 },
 "nbformat": 4,
 "nbformat_minor": 5
}

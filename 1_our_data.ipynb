{
 "cells": [
  {
   "metadata": {},
   "cell_type": "markdown",
   "source": [
    "<a href=\"https://colab.research.google.com/github/thesteve0/impatient-computer-vision/blob/main/1_our_data.ipynb\" target=\"_parent\"><img src=\"https://colab.research.google.com/assets/colab-badge.svg\" alt=\"Open In Colab\"/></a>\n",
    "\n",
    "# Housekeeping and Our Data\n",
    "Today we are going to work with 300 random public domain licensed images from Flickr.\n",
    "The main problem we are going to be looking at is trying to determine whether there are people in the image. If so, then\n",
    "maybe look at other interesting things we can tell about the people in the image.\n",
    "\n",
    "We are going to use this dataset throughout our entire workshop, but just do different computer vision tasks on the images\n",
    "\n",
    "\n",
    "Let's go ahead and get started. First we need to do some housekeeping.\n",
    "\n",
    "## Mapping Google Drive\n",
    "\n",
    "I have placed some of the assets for this class (and the slides) on a shared drvie on Google Drive. We can map this drive to your drive in Colab, which then makes loading files, models, and other assets much quicker. In addition, Hugging Face prevents more than a certain number of simultaneous downloads of the same asset.\n",
    "\n",
    "We only need to do part of this once and then it will persist between notebooks\n",
    "\n",
    "### Instructions\n",
    "\n",
    "1. Map my Google Drive share into your Google drive.\n",
    "This is the URL:  `https://drive.google.com/drive/folders/10OntalRqoH64qazpX9HimkdsNpqmxHUs?usp=drive_link`\n",
    "\n",
    "2. When you open it click on the down arrow by the folder name at the top of the page -> click on organize -> then click on \"Add Shortcut\"\n",
    "![drive map 1](assets/map_drive.png)\n",
    "\n",
    "\n",
    "3. Click on all locations -> hove over My Drive -> click on Add\n",
    "\n",
    "![drive_map_2](assets/drive_map2.png)"
   ],
   "id": "7e235eb1ef42d14d"
  },
  {
   "cell_type": "code",
   "execution_count": null,
   "id": "initial_id",
   "metadata": {
    "collapsed": true
   },
   "outputs": [],
   "source": [
    ""
   ]
  }
 ],
 "metadata": {
  "kernelspec": {
   "display_name": "Python 3",
   "language": "python",
   "name": "python3"
  },
  "language_info": {
   "codemirror_mode": {
    "name": "ipython",
    "version": 2
   },
   "file_extension": ".py",
   "mimetype": "text/x-python",
   "name": "python",
   "nbconvert_exporter": "python",
   "pygments_lexer": "ipython2",
   "version": "2.7.6"
  }
 },
 "nbformat": 4,
 "nbformat_minor": 5
}

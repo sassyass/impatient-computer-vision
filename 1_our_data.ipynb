{
 "cells": [
  {
   "metadata": {},
   "cell_type": "markdown",
   "source": [
    "# Housekeeping and Our Data\n",
    "Today we are going to work with 300 random public domain licensed images from Flickr.\n",
    "The main problem we are going to be looking at is trying to determine whether there are people in the image. If so, then\n",
    "maybe look at other interesting things we can tell about the people in the image.\n",
    "\n",
    "We are going to use this dataset throughout our entire workshop, but just do different computer vision tasks on the images\n",
    "\n",
    "\n",
    "Let's go ahead and get started. First we need to do some housekeeping."
   ],
   "id": "7e235eb1ef42d14d"
  },
  {
   "cell_type": "code",
   "execution_count": null,
   "id": "initial_id",
   "metadata": {
    "collapsed": true
   },
   "outputs": [],
   "source": [
    ""
   ]
  }
 ],
 "metadata": {
  "kernelspec": {
   "display_name": "Python 3",
   "language": "python",
   "name": "python3"
  },
  "language_info": {
   "codemirror_mode": {
    "name": "ipython",
    "version": 2
   },
   "file_extension": ".py",
   "mimetype": "text/x-python",
   "name": "python",
   "nbconvert_exporter": "python",
   "pygments_lexer": "ipython2",
   "version": "2.7.6"
  }
 },
 "nbformat": 4,
 "nbformat_minor": 5
}

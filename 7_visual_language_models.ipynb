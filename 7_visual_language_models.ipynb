{
 "cells": [
  {
   "metadata": {},
   "cell_type": "markdown",
   "source": [
    "<a href=\"https://colab.research.google.com/github/thesteve0/impatient-computer-vision/blob/main/7_visual_language_models.ipynb\" target=\"_parent\"><img src=\"https://colab.research.google.com/assets/colab-badge.svg\" alt=\"Open In Colab\"/></a>\n",
    "\n",
    "# Visual Language Models\n",
    "\n",
    "The models we have used up to now could only handle one mode of unstructured data - images. These next type of models we are going to cover are called multi-modal, they can handle multiple modes of input. In this case, the models are trained on both images and text. The training of these models occurs with image and text pairs. The model captures and combines the features, embeddings, allowing them to generate predictions for either modality.\n",
    "\n",
    "What this practically means is you can query the images using text, such as \"images with cats\". And you can also ask the model to describe what is in the image. You can still do the single mode tasks, such as object detection, and you gain the benefit of the model understanding more of the human perceptions of the image.\n",
    "\n",
    "One of the earliest models of this type was built by Open AI and called CLIP. You actually saw the embeddings generated from this model back in the embeddings notebook. Those embeddings were generated using an open weights version of CLIP called OpenClip. And because these embeddings were generated using this multi-modal model, they contained more of the semantic features, human understanding, of what was in the images.\n",
    "\n",
    "We are going to use another YOLO model to help with one of the most labor-intensive part of training computer vision models, creating annotation data. This use is sometimes called generative labeling. We use the models to generate an initial set of labels. While we still have  edit the labels, we avoid trying to do everything from scratch.\n",
    "\n",
    "And with that, time to get our hands dirty - let's do the housekeeping:"
   ],
   "id": "4ec0640af24a08a3"
  },
  {
   "cell_type": "code",
   "execution_count": null,
   "id": "initial_id",
   "metadata": {
    "collapsed": true
   },
   "outputs": [],
   "source": [
    "from google.colab import drive\n",
    "drive.mount('/content/drive')\n",
    "\n",
    "!pip install fiftyone==1.4.1 torch torchvision ultralytics\n",
    "\n",
    "import fiftyone as fo\n",
    "import fiftyone.zoo as foz\n",
    "\n",
    "name = \"our-photos\"\n",
    "dir = \"/content/drive/MyDrive/impatient-cv/flickr-labeled\"\n",
    "\n",
    "dataset = fo.Dataset.from_dir(\n",
    "    dataset_dir=dir,\n",
    "    dataset_type=fo.types.FiftyOneDataset,\n",
    "    name=name\n",
    ")\n"
   ]
  },
  {
   "metadata": {},
   "cell_type": "markdown",
   "source": [
    "## Running models\n",
    "\n",
    "There are all sorts of interesting tasks you can do with these multi-modal models, for example, [this code](https://github.com/thesteve0/photo-explorer/blob/main/4_word_cloud.py) generates a word cloud from ideas in the dataset's images. Today we are going to use these models to help us generate annotations in a dataset without annotations.\n",
    "\n",
    "When we did our original object detections, the model could only produce predictions from the classes it was trained on. We can use the multi-modal models to generate custom object detection classes. Generating these labels would be one of the first steps in training or fine-tuning our own model to work for our use cases."
   ],
   "id": "e38eee32d3dc2cbd"
  },
  {
   "metadata": {},
   "cell_type": "code",
   "outputs": [],
   "execution_count": null,
   "source": [
    "# Just default predictions\n",
    "model = foz.load_zoo_model(\"yolov8l-world-torch\")\n",
    "\n",
    "dataset.apply(model, label_field=\"default_predictions\")\n",
    "\n",
    "#\n",
    "# Make zero-shot predictions with custom classes\n",
    "#\n",
    "\n",
    "model = foz.load_zoo_model(\n",
    "    \"yolov8l-world-torch\",\n",
    "    classes=[\"car\", \"motocycle\", \"building\", \"flower\", \"animal\"],\n",
    ")\n",
    "\n",
    "dataset.apply(model, label_field=\"custom_predictions\")\n",
    "\n",
    "session = fo.launch_app(dataset, auto=False)\n",
    "session.url"
   ],
   "id": "5cf30ac17a0e641c"
  }
 ],
 "metadata": {
  "kernelspec": {
   "display_name": "Python 3",
   "language": "python",
   "name": "python3"
  },
  "language_info": {
   "codemirror_mode": {
    "name": "ipython",
    "version": 2
   },
   "file_extension": ".py",
   "mimetype": "text/x-python",
   "name": "python",
   "nbconvert_exporter": "python",
   "pygments_lexer": "ipython2",
   "version": "2.7.6"
  }
 },
 "nbformat": 4,
 "nbformat_minor": 5
}

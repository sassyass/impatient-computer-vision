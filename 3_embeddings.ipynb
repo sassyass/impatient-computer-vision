{
 "cells": [
  {
   "metadata": {},
   "cell_type": "raw",
   "source": [
    "# Embeddings\n",
    "\n",
    "There has been a lot of discussion about embeddings, and with good reason. Not only can they be used to power similarity search but they can also reveal fundamental relationships in our unstructured data. And there has been burgoneoning research showing how embeddings can often be used to replace the original data for many types of analysis - allowing for amazing data compression while retaining many of the original characterstics of the data.   "
   ],
   "id": "4da7d37769d9f518"
  },
  {
   "metadata": {},
   "cell_type": "code",
   "outputs": [],
   "execution_count": null,
   "source": [
    "!pip install fiftyone==1.4.1 torch torchvision umap-learn\n",
    "from google.colab import drive\n",
    "drive.mount('/content/drive')\n",
    "\n",
    "import fiftyone as fo\n",
    "\n",
    "name = \"our-photos\"\n",
    "dir = \"/content/drive/MyDrive/impatient-cv/flickr-labeled\"\n",
    "\n",
    "dataset = fo.Dataset.from_dir(\n",
    "    dataset_dir=dir,\n",
    "    dataset_type=fo.types.FiftyOneDataset,\n",
    "    name=name\n",
    ")\n",
    "\n",
    "print(dataset)"
   ],
   "id": "f9d6e206e22fef4"
  }
 ],
 "metadata": {
  "kernelspec": {
   "display_name": "Python 3",
   "language": "python",
   "name": "python3"
  },
  "language_info": {
   "codemirror_mode": {
    "name": "ipython",
    "version": 2
   },
   "file_extension": ".py",
   "mimetype": "text/x-python",
   "name": "python",
   "nbconvert_exporter": "python",
   "pygments_lexer": "ipython2",
   "version": "2.7.6"
  }
 },
 "nbformat": 4,
 "nbformat_minor": 5
}

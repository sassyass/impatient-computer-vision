{
  "nbformat": 4,
  "nbformat_minor": 0,
  "metadata": {
    "colab": {
      "private_outputs": true,
      "provenance": [],
      "authorship_tag": "ABX9TyO65fH1Njxg8X6+WRgWYdpi",
      "include_colab_link": true
    },
    "kernelspec": {
      "name": "python3",
      "display_name": "Python 3"
    },
    "language_info": {
      "name": "python"
    }
  },
  "cells": [
    {
      "cell_type": "markdown",
      "metadata": {
        "id": "view-in-github",
        "colab_type": "text"
      },
      "source": [
        "<a href=\"https://colab.research.google.com/github/thesteve0/impatient-computer-vision/blob/main/getting_started.ipynb\" target=\"_parent\"><img src=\"https://colab.research.google.com/assets/colab-badge.svg\" alt=\"Open In Colab\"/></a>"
      ]
    },
    {
      "cell_type": "code",
      "execution_count": null,
      "metadata": {
        "id": "RBsf4SdlNCZO"
      },
      "outputs": [],
      "source": [
        "!pip install torch==2.6.0 torchvision==0.21.0 umap-learn==0.5.7 transformers==4.51.3 fiftyone==1.4.1 > /dev/null\n",
        "print(\"Done installing requirements!\")"
      ]
    },
    {
      "cell_type": "code",
      "source": [
        "import fiftyone as fo\n",
        "import fiftyone.zoo as foz"
      ],
      "metadata": {
        "id": "ZuJotBRBO7Sf"
      },
      "execution_count": null,
      "outputs": []
    }
  ]
}